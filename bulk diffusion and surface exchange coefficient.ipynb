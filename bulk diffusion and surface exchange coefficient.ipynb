{
 "cells": [
  {
   "cell_type": "code",
   "execution_count": null,
   "id": "795f0b2b",
   "metadata": {},
   "outputs": [],
   "source": [
    "import pandas as pd\n",
    "import numpy as np\n",
    "from scipy.optimize import curve_fit, fsolve\n",
    "\n",
    "# Load data from Excel file\n",
    "df = pd.read_excel('book.xlsx', header=None, names=['t', 'ft'])\n",
    "\n",
    "# Extract time and data as numpy arrays\n",
    "t = df['t'].to_numpy()\n",
    "ft = df['ft'].to_numpy()\n",
    "\n",
    "# Get values of Length, Width, and Thickess from user\n",
    "L1 = float(input(\"Enter the length L1 in cm: \"))\n",
    "L2 = float(input(\"Enter the width L2 in cm: \"))\n",
    "L3 = float(input(\"Enter the thickness L3 in cm: \"))\n",
    "\n",
    "# Remove any missing values in ft\n",
    "mask = ~np.isnan(ft)\n",
    "t = t[mask]\n",
    "ft = ft[mask]\n",
    "\n",
    "# Define functions for non-linear fit\n",
    "def f1(t, D, k):\n",
    "    l1 = L1/2\n",
    "    c1 = l1 * k / D\n",
    "    a = np.array([fsolve(lambda x: x*np.tan(x)-(l1*10), (i-1)*np.pi+0.01) for i in range(1, 11)])\n",
    "    return 2 * c1**2 * np.sum(np.exp(-a**2 * D * t / l1**2) / (a**2 * (a**2 + c1**2 + c1)))\n",
    "\n",
    "def f2(t, D, k):\n",
    "    l2 = L2/2\n",
    "    c2 = l2 * k / D\n",
    "    a = np.array([fsolve(lambda x: x*np.tan(x)-(l2*10), (i-1)*np.pi+0.01) for i in range(1, 11)])\n",
    "    return 2 * c2**2 * np.sum(np.exp(-a**2 * D * t / l2**2) / (a**2 * (a**2 + c2**2 + c2)))\n",
    "\n",
    "def f3(t, D, k):\n",
    "    l3 = L3/2\n",
    "    c3 = l3 * k / D\n",
    "    a = np.array([fsolve(lambda x: x*np.tan(x)-(l3*10), (i-1)*np.pi+0.01) for i in range(1, 11)])\n",
    "    return 2 * c3**2 * np.sum(np.exp(-a**2 * D * t / l3**2) / (a**2 * (a**2 + c3**2 + c3)))\n",
    "\n",
    "# Perform non-linear fit\n",
    "p0 = [1e-6, 1e-4] # Initial guess for D and k\n",
    "bounds = (0, np.inf)\n",
    "params, cov = curve_fit(lambda t, D, k: 1 - f1(t, D, k) * f2(t, D, k) * f3(t, D, k), t, ft, p0=p0, bounds=bounds)\n",
    "\n",
    "# Print results\n",
    "D, k = params\n",
    "D_err, k_err = np.sqrt(np.diag(cov))\n",
    "print(f\"Estimated Parameters:\")\n",
    "print(f\"\\tD = {D:.8f} ± {D_err:.8f}\")\n",
    "print(f\"\\tk = {k:.8f} ± {k_err:.8f}\")\n",
    "print(f\"The sum of the squares is: {np.sum((ft - (1 - f1(t, D, k) * f2(t, D, k) * f3(t, D, k))) ** 2):.1e}\")\n"
   ]
  }
 ],
 "metadata": {
  "kernelspec": {
   "display_name": "Python 3 (ipykernel)",
   "language": "python",
   "name": "python3"
  },
  "language_info": {
   "codemirror_mode": {
    "name": "ipython",
    "version": 3
   },
   "file_extension": ".py",
   "mimetype": "text/x-python",
   "name": "python",
   "nbconvert_exporter": "python",
   "pygments_lexer": "ipython3",
   "version": "3.9.16"
  }
 },
 "nbformat": 4,
 "nbformat_minor": 5
}
